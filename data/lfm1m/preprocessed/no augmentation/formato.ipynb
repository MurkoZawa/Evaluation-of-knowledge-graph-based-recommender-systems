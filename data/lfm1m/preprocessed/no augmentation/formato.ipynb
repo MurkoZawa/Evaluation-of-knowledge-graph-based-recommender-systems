{
 "cells": [
  {
   "cell_type": "code",
   "execution_count": 2,
   "id": "b634c076-d37c-435e-85f9-5a1a13e72ccd",
   "metadata": {},
   "outputs": [],
   "source": [
    "def format_date(date_str):\n",
    "    # Rimuove la parte relativa all'ora (T00:00:00Z)\n",
    "    return date_str.split('T')[0]\n",
    "\n",
    "with open('user_augmentation.txt', 'r', encoding='utf-8') as file:\n",
    "    lines = file.readlines()\n",
    "\n",
    "formatted_lines = []\n",
    "for line in lines:\n",
    "    # Separa la riga per virgola e rimuove gli spazi vuoti\n",
    "    elements = line.strip().split(',')\n",
    "    # Formatta la data\n",
    "    elements[-2] = format_date(elements[-2])\n",
    "    # Unisce gli elementi usando il tabulatore come separatore\n",
    "    formatted_line = '\\t'.join(elements)\n",
    "    formatted_lines.append(formatted_line)\n",
    "\n",
    "# Scrive i dati formattati in un nuovo file\n",
    "with open('formatted_user_augmentation.txt', 'w', encoding='utf-8') as file:\n",
    "    file.write('\\n'.join(formatted_lines))\n"
   ]
  },
  {
   "cell_type": "code",
   "execution_count": null,
   "id": "90c7bdb7-35e7-457d-b19b-9f203421bcdc",
   "metadata": {},
   "outputs": [],
   "source": []
  },
  {
   "cell_type": "code",
   "execution_count": null,
   "id": "6cb447b3-356b-4e75-9f9a-b07b38fd4ec2",
   "metadata": {},
   "outputs": [],
   "source": []
  }
 ],
 "metadata": {
  "kernelspec": {
   "display_name": "Python 3 (ipykernel)",
   "language": "python",
   "name": "python3"
  },
  "language_info": {
   "codemirror_mode": {
    "name": "ipython",
    "version": 3
   },
   "file_extension": ".py",
   "mimetype": "text/x-python",
   "name": "python",
   "nbconvert_exporter": "python",
   "pygments_lexer": "ipython3",
   "version": "3.10.4"
  }
 },
 "nbformat": 4,
 "nbformat_minor": 5
}
